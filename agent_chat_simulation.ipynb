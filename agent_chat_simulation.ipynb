{
 "cells": [
  {
   "cell_type": "code",
   "execution_count": null,
   "metadata": {},
   "outputs": [
    {
     "data": {
      "text/plain": [
       "True"
      ]
     },
     "execution_count": null,
     "metadata": {},
     "output_type": "execute_result"
    }
   ],
   "source": [
    "from dotenv import load_dotenv\n",
    "\n",
    "# OpenAI API 키 정보 로드\n",
    "load_dotenv()"
   ]
  },
  {
   "cell_type": "code",
   "execution_count": null,
   "metadata": {},
   "outputs": [],
   "source": [
    "from typing import Annotated\n",
    "\n",
    "from langgraph.graph.message import add_messages\n",
    "from typing_extensions import TypedDict\n",
    "\n",
    "\n",
    "# 사용자 - 상담사 역할 간 주고 받을 state 클래스 정의\n",
    "class State(TypedDict):\n",
    "    messages: Annotated[list, add_messages]  # 사용자 - 상담사 간의 대화 메시지"
   ]
  },
  {
   "cell_type": "code",
   "execution_count": null,
   "metadata": {},
   "outputs": [
    {
     "data": {
      "text/plain": [
       "'안녕하세요. 고객님께서 계신 지역의 오늘 날씨 정보를 알려드리기 위해서는 현재 위치를 알려주셔야 합니다. 또는 특정 도시의 날씨를 원하시면 도시 이름을 말씀해 주세요. 감사합니다.'"
      ]
     },
     "execution_count": null,
     "metadata": {},
     "output_type": "execute_result"
    }
   ],
   "source": [
    "from typing import Dict, List\n",
    "\n",
    "from langchain_core.messages import BaseMessage, HumanMessage\n",
    "from langchain_core.output_parsers import StrOutputParser\n",
    "from langchain_core.prompts import ChatPromptTemplate, MessagesPlaceholder\n",
    "from langchain_openai import ChatOpenAI\n",
    "\n",
    "# OpenAI 모델 이름 설정\n",
    "MODEL_NAME = \"gpt-4.1-nano\"\n",
    "\n",
    "\n",
    "# 사용자의 입력을 받아 챗봇 응답을 처리하는 상담원 역할 정의\n",
    "def call_chatbot(messages: List[BaseMessage]) -> Dict[str, str]:\n",
    "    prompt = ChatPromptTemplate.from_messages(\n",
    "        [\n",
    "            (\n",
    "                \"system\",\n",
    "                \"You are a customer support agent for an airline. Answer in Korean.\",\n",
    "            ),\n",
    "            MessagesPlaceholder(variable_name=\"messages\"),\n",
    "        ]\n",
    "    )\n",
    "    model = ChatOpenAI(model=MODEL_NAME, temperature=0.6)\n",
    "    chain = prompt | model | StrOutputParser()\n",
    "    return chain.invoke({\"messages\": messages})\n",
    "\n",
    "\n",
    "call_chatbot([HumanMessage(content=\"안녕하세요. 오늘 날씨가 어때요?\")])"
   ]
  },
  {
   "cell_type": "code",
   "execution_count": null,
   "metadata": {},
   "outputs": [
    {
     "name": "stdout",
     "output_type": "stream",
     "text": [
      "================================\u001b[1m System Message \u001b[0m================================\n",
      "\n",
      "\n",
      "    You are a customer of an airline company.  \n",
      "    You are interacting with a user who is a customer support person.  \n",
      "\n",
      "    Your name is \u001b[33;1m\u001b[1;3m{name}\u001b[0m.  \n",
      "\n",
      "    # Instructions:  \n",
      "    \u001b[33;1m\u001b[1;3m{instructions}\u001b[0m  \n",
      "\n",
      "    [IMPORTANT]  \n",
      "    - When you are finished with the conversation, respond with a single word 'FINISHED'  \n",
      "    - You must speak in Korean.\n",
      "    \n",
      "\n",
      "=============================\u001b[1m Messages Placeholder \u001b[0m=============================\n",
      "\n",
      "\u001b[33;1m\u001b[1;3m{messages}\u001b[0m\n"
     ]
    },
    {
     "data": {
      "text/plain": [
       "'안녕하세요, 저는 Teddy라고 합니다. 작년 제주도 여행을 다녀왔는데, 환불을 받고 싶어서 연락드렸어요. 전액 환불이 가능할까요?'"
      ]
     },
     "execution_count": null,
     "metadata": {},
     "output_type": "execute_result"
    }
   ],
   "source": [
    "# 시뮬레이션된 가상의 고객 역할 정의\n",
    "def create_scenario(name: str, instructions: str) -> ChatPromptTemplate:\n",
    "    system_prompt_template = \"\"\"\n",
    "    You are a customer of an airline company.\n",
    "    You are interacting with a user who is a customer support person.\n",
    "\n",
    "    Your name is {name}.\n",
    "\n",
    "    # Instructions:\n",
    "    {instructions}\n",
    "\n",
    "    [IMPORTANT]\n",
    "    - When you are finished with the conversation, respond with a single word 'FINISHED'\n",
    "    - You must speak in Korean.\n",
    "    \"\"\"\n",
    "\n",
    "    prompt = ChatPromptTemplate.from_messages(\n",
    "        [\n",
    "            (\"system\", system_prompt_template),\n",
    "            MessagesPlaceholder(variable_name=\"messages\"),\n",
    "        ]\n",
    "    )\n",
    "\n",
    "    prompt = prompt.partial(name=name, instructions=instructions)\n",
    "    return prompt\n",
    "\n",
    "\n",
    "# 시스템 프롬프트 및 placeholder 확인\n",
    "instructions = \"\"\"You are tyring to get a refund for the trip you took to Jeju Island.\n",
    "You want them to give you ALL the money back. This trip happened last year.\"\"\"\n",
    "name = \"Teddy\"\n",
    "create_scenario(name, instructions).pretty_print()\n",
    "\n",
    "# 시뮬레이션된 가상의 고객 대화 생성 예제\n",
    "model = ChatOpenAI(model=MODEL_NAME, temperature=0.6)\n",
    "simulated_user = create_scenario(name, instructions) | model | StrOutputParser()\n",
    "messages = [HumanMessage(content=\"안녕하세요? 어떻게 도와 드릴까요?\")]\n",
    "simulated_user.invoke({\"messages\": messages})"
   ]
  },
  {
   "cell_type": "code",
   "execution_count": null,
   "metadata": {},
   "outputs": [],
   "source": [
    "from typing import Dict\n",
    "\n",
    "from langchain_core.messages import AIMessage\n",
    "\n",
    "\n",
    "# 메시지의 역할을 교환: 시뮬레이션 사용자 역할에서는 메시지 타입을 AI -> Human, Human -> AI 로 교환\n",
    "def _swap_roles(messages: List[BaseMessage]) -> List[BaseMessage]:\n",
    "    new_messages = []\n",
    "    for m in messages:\n",
    "        if isinstance(m, AIMessage):\n",
    "            # AIMessage 인 경우, HumanMessage 로 변환\n",
    "            new_messages.append(HumanMessage(content=m.content))\n",
    "        else:\n",
    "            # HumanMessage 인 경우, AIMessage 로 변환\n",
    "            new_messages.append(AIMessage(content=m.content))\n",
    "\n",
    "    return new_messages\n",
    "\n",
    "\n",
    "# 상담사 역할(AI Assistant) 노드 정의\n",
    "def ai_assistant_node(state: State) -> Dict[str, List[BaseMessage]]:\n",
    "    # 상담사 응답 호출\n",
    "    ai_response = call_chatbot(state[\"messages\"])\n",
    "\n",
    "    # AI 상담사의 응답을 반환\n",
    "    return {\"messages\": [(\"assistant\", ai_response)]}\n",
    "\n",
    "\n",
    "# 시뮬레이션된 사용자(Simulated User) 노드 정의\n",
    "def simulated_user_node(state: State) -> Dict[str, List[BaseMessage]]:\n",
    "    # 메시지 타입을 교환: AI -> Human, Human -> AI\n",
    "    new_messages = _swap_roles(state[\"messages\"])\n",
    "\n",
    "    # 시뮬레이션된 사용자를 호출\n",
    "    response = simulated_user.invoke({\"messages\": new_messages})\n",
    "    return {\"messages\": [(\"user\", response)]}"
   ]
  },
  {
   "cell_type": "code",
   "execution_count": null,
   "metadata": {},
   "outputs": [],
   "source": [
    "from typing import Literal\n",
    "\n",
    "\n",
    "# 시뮬레이션 노드의 반복 중단을 위한 엣지 정의\n",
    "def should_continue(state: State) -> Literal[\"end\"] | Literal[\"continue\"]:\n",
    "    # 메시지 리스트의 길이가 6보다 크면 'end'를 반환 (6회 이상 메시지를 주고 받은 경우)\n",
    "    if len(state[\"messages\"]) > 6:\n",
    "        return \"end\"\n",
    "\n",
    "    # 마지막 메시지의 내용이 'FINISHED'라면 'end'를 반환\n",
    "    elif state[\"messages\"][-1].content == \"FINISHED\":\n",
    "        return \"end\"\n",
    "\n",
    "    # 위의 조건에 해당하지 않으면 'continue'를 반환\n",
    "    else:\n",
    "        return \"continue\""
   ]
  },
  {
   "cell_type": "code",
   "execution_count": null,
   "metadata": {},
   "outputs": [
    {
     "data": {
      "image/png": "[encoded data removed]",
      "text/plain": [
       "<IPython.core.display.Image object>"
      ]
     },
     "metadata": {},
     "output_type": "display_data"
    }
   ],
   "source": [
    "from langgraph.graph import END, StateGraph\n",
    "\n",
    "from utils import visualize_graph\n",
    "\n",
    "# StateGraph 인스턴스 생성\n",
    "graph_builder = StateGraph(State)\n",
    "\n",
    "# 노드 정의\n",
    "graph_builder.add_node(\"simulated_user\", simulated_user_node)\n",
    "graph_builder.add_node(\"ai_assistant\", ai_assistant_node)\n",
    "\n",
    "# 엣지 정의 (챗봇 -> 시뮬레이션된 사용자)\n",
    "graph_builder.add_edge(\"ai_assistant\", \"simulated_user\")\n",
    "\n",
    "# 조건부 엣지 정의\n",
    "graph_builder.add_conditional_edges(\n",
    "    \"simulated_user\",\n",
    "    should_continue,\n",
    "    {\n",
    "        \"end\": END,  # 종료 조건이 충족되면 시뮬레이션을 중단\n",
    "        \"continue\": \"ai_assistant\",  # 종료 조건이 충족되지 않으면 상담사 역할 노드로 메시지를 전달\n",
    "    },\n",
    ")\n",
    "\n",
    "# 시작점 설정\n",
    "graph_builder.set_entry_point(\"ai_assistant\")\n",
    "\n",
    "# 그래프 컴파일\n",
    "simulation = graph_builder.compile()\n",
    "visualize_graph(simulation)"
   ]
  },
  {
   "cell_type": "code",
   "execution_count": null,
   "metadata": {},
   "outputs": [
    {
     "name": "stdout",
     "output_type": "stream",
     "text": [
      "\n",
      "==================================================\n",
      "🔄 Node: \u001b[1;36mai_assistant\u001b[0m 🔄\n",
      "- - - - - - - - - - - - - - - - - - - - - - - - - \n",
      "안녕하세요, 고객님. 불편을 드려 정말 죄송합니다. 어떤 부분에서 문제가 있으셨는지 자세히 말씀해 주시면, 신속하게 도와드리겠습니다.\n",
      "==================================================\n",
      "🔄 Node: \u001b[1;36msimulated_user\u001b[0m 🔄\n",
      "- - - - - - - - - - - - - - - - - - - - - - - - - \n",
      "네, 제가 작년에 제주도 여행을 다녀왔는데요, 정말 기대했던 것과는 달리 너무 실망스러웠어요. 서비스도 별로였고, 예약 과정도 복잡했고, 결국 여행이 매우 불편했고 시간과 돈이 모두 낭비된 느낌입니다. 그래서 이번 여행에 대해 전액 환불을 요청드리고 싶어요. 이 문제를 빠르게 해결해 주시겠어요?\n",
      "==================================================\n",
      "🔄 Node: \u001b[1;36mai_assistant\u001b[0m 🔄\n",
      "- - - - - - - - - - - - - - - - - - - - - - - - - \n",
      "고객님께서 겪으신 불편에 대해 진심으로 사과드립니다. 고객님의 소중한 여행 경험이 기대에 미치지 못한 점 정말 유감스럽습니다. 환불 요청에 대해 신속히 처리할 수 있도록 도와드리겠습니다. 고객님의 예약 정보와 관련 내용을 확인할 수 있도록 예약 번호 또는 성함을 알려주시겠어요? 빠른 시일 내에 해결될 수 있도록 최선을 다하겠습니다.\n",
      "==================================================\n",
      "🔄 Node: \u001b[1;36msimulated_user\u001b[0m 🔄\n",
      "- - - - - - - - - - - - - - - - - - - - - - - - - \n",
      "제 예약 번호는 123456이고, 제 성함은 테디입니다. 이번 일이 너무 실망스럽고, 전액 환불을 꼭 받고 싶어요. 빠른 처리 부탁드릴게요.\n",
      "==================================================\n",
      "🔄 Node: \u001b[1;36mai_assistant\u001b[0m 🔄\n",
      "- - - - - - - - - - - - - - - - - - - - - - - - - \n",
      "테디 고객님, 예약 번호와 성함을 알려주셔서 감사합니다. 고객님의 요청을 바로 확인하고 있으며, 최대한 빠르게 환불 절차를 진행하겠습니다. 잠시만 기다려 주시겠어요? 처리 완료 후 다시 연락드리도록 하겠습니다. 고객님의 불편을 끼쳐 드린 점 다시 한 번 사과드리며, 빠른 해결을 위해 최선을 다하겠습니다.\n",
      "==================================================\n",
      "🔄 Node: \u001b[1;36msimulated_user\u001b[0m 🔄\n",
      "- - - - - - - - - - - - - - - - - - - - - - - - - \n",
      "네, 알겠습니다. 기다리겠습니다. 이번 일은 정말 실망스럽고 속상했어요. 빠른 처리 부탁드리고, 더 이상 기다리게 하지 말아 주세요. 감사합니다."
     ]
    }
   ],
   "source": [
    "import uuid\n",
    "\n",
    "from langchain_core.runnables import RunnableConfig\n",
    "\n",
    "from utils import stream_graph\n",
    "\n",
    "# config 설정(재귀 최대 횟수, thread_id)\n",
    "config = RunnableConfig(recursion_limit=10, configurable={\"thread_id\": uuid.uuid4()})\n",
    "\n",
    "# 최초 입력 메시지 설정\n",
    "inputs = {\"messages\": [HumanMessage(content=\"안녕하세요? 저 지금 좀 화가 많이 났습니다^^\")]}\n",
    "\n",
    "# 그래프 스트리밍 실행\n",
    "stream_graph(simulation, inputs, config, node_names=[\"simulated_user\", \"ai_assistant\"])"
   ]
  }
 ],
 "metadata": {
  "kernelspec": {
   "display_name": ".venv",
   "language": "python",
   "name": "python3"
  },
  "language_info": {
   "codemirror_mode": {
    "name": "ipython",
    "version": 3
   },
   "file_extension": ".py",
   "mimetype": "text/x-python",
   "name": "python",
   "nbconvert_exporter": "python",
   "pygments_lexer": "ipython3"
  }
 },
 "nbformat": 4,
 "nbformat_minor": 2
}
